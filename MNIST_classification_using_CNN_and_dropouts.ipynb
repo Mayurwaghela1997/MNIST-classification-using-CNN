{
  "nbformat": 4,
  "nbformat_minor": 0,
  "metadata": {
    "colab": {
      "provenance": []
    },
    "kernelspec": {
      "name": "python3",
      "display_name": "Python 3"
    },
    "language_info": {
      "name": "python"
    }
  },
  "cells": [
    {
      "cell_type": "markdown",
      "source": [
        "## Image classification of MNIST dataset using CNN and Dropout\n",
        "\n",
        "---\n",
        "\n",
        "Dataset: [MNIST Dataset](http://yann.lecun.com/exdb/mnist/), Images of handwritten digits\n",
        "\n",
        "---"
      ],
      "metadata": {
        "id": "78HrQyauJLWx"
      }
    },
    {
      "cell_type": "markdown",
      "source": [
        "## Importing Necessary libraries"
      ],
      "metadata": {
        "id": "RtHPr--CLH5L"
      }
    },
    {
      "cell_type": "code",
      "execution_count": 1,
      "metadata": {
        "id": "q8f-Cys3BA7q"
      },
      "outputs": [],
      "source": [
        "%matplotlib inline\n",
        "import matplotlib.pyplot as plt\n",
        "import tensorflow as tf\n",
        "import tensorflow_datasets as tfds\n",
        "import numpy as np\n",
        "import pandas as pd\n",
        "from sklearn.model_selection import train_test_split\n",
        "from sklearn.metrics import confusion_matrix, ConfusionMatrixDisplay\n",
        "import random"
      ]
    },
    {
      "cell_type": "markdown",
      "source": [
        "## Importing MNIST dataset using TensorFlow"
      ],
      "metadata": {
        "id": "WlAyUFmmLb6L"
      }
    },
    {
      "cell_type": "code",
      "source": [
        "mnist = tf.keras.datasets.mnist\n",
        "(x_train, y_train), (x_test, y_test) = mnist.load_data()"
      ],
      "metadata": {
        "id": "VoA8pQ2IjLvI"
      },
      "execution_count": 2,
      "outputs": []
    },
    {
      "cell_type": "code",
      "source": [
        "#checking distributions of the classes\n",
        "pd.DataFrame(y_train, columns=['label']).label.value_counts().sort_index().plot(kind='bar')\n",
        "plt.xlabel('Labels')\n",
        "plt.ylabel('Frequency')\n",
        "plt.title('Distribution of the classes in training set')\n",
        "plt.show()"
      ],
      "metadata": {
        "colab": {
          "base_uri": "https://localhost:8080/",
          "height": 292
        },
        "id": "XaYNEJDWkwgG",
        "outputId": "0d128fb7-ea9f-446b-c95f-43cbcb7ab567"
      },
      "execution_count": 3,
      "outputs": [
        {
          "output_type": "display_data",
          "data": {
            "text/plain": [
              "<Figure size 432x288 with 1 Axes>"
            ],
            "image/png": "[encoded data removed]"
          },
          "metadata": {
            "needs_background": "light"
          }
        }
      ]
    },
    {
      "cell_type": "code",
      "source": [
        "#checking for null values\n",
        "np.isnan(x_train).any(), np.isnan(x_test).any(), np.isnan(y_train).any(), np.isnan(y_test).any()"
      ],
      "metadata": {
        "colab": {
          "base_uri": "https://localhost:8080/"
        },
        "id": "fHe78hY_ksLG",
        "outputId": "cc08270b-ad79-43e8-f5d4-9b1c84fbeeaa"
      },
      "execution_count": 4,
      "outputs": [
        {
          "output_type": "execute_result",
          "data": {
            "text/plain": [
              "(False, False, False, False)"
            ]
          },
          "metadata": {},
          "execution_count": 4
        }
      ]
    },
    {
      "cell_type": "code",
      "source": [
        "#Randon image and it's label\n",
        "idx = random.randint(0, len(x_train))\n",
        "plt.imshow(x_train[idx]), \n",
        "plt.title(\"True label: \" + str(y_train[idx]))\n",
        "plt.show()"
      ],
      "metadata": {
        "colab": {
          "base_uri": "https://localhost:8080/",
          "height": 281
        },
        "id": "1hIuCXKPofYS",
        "outputId": "479bbb00-486a-4d45-9268-cd954f86494a"
      },
      "execution_count": 5,
      "outputs": [
        {
          "output_type": "display_data",
          "data": {
            "text/plain": [
              "<Figure size 432x288 with 1 Axes>"
            ],
            "image/png": "[encoded data removed]"
          },
          "metadata": {
            "needs_background": "light"
          }
        }
      ]
    },
    {
      "cell_type": "markdown",
      "source": [
        "## Normalizing and reshaping the images & Applying one-hot Encoding for labels\n",
        "\n",
        "1.   Conv2D layer takes 4 dimensional tensor so instead of 60000 28x28x1 tensors it takes a 60000x28x28x1 tensor\n",
        "2.   Dividing by 255 to normalize because the pixel value ranges from 0 to 255 this will result in the values being in 0 to 1 range"
      ],
      "metadata": {
        "id": "i1YzT0oDMefi"
      }
    },
    {
      "cell_type": "code",
      "source": [
        "x_train=x_train.reshape(x_train.shape[0], x_train.shape[1], x_train.shape[2], 1)\n",
        "x_train=x_train / 255.0\n",
        "x_test = x_test.reshape(x_test.shape[0], x_test.shape[1], x_test.shape[2], 1)\n",
        "x_test=x_test/255.0"
      ],
      "metadata": {
        "id": "S6NoUZ2sq3P1"
      },
      "execution_count": 6,
      "outputs": []
    },
    {
      "cell_type": "code",
      "source": [
        "#preparing labels using one hot encoding for classification\n",
        "num_classes = len(np.unique(y_train))\n",
        "y_train = tf.one_hot(y_train.astype(np.int32), depth=num_classes)\n",
        "y_test = tf.one_hot(y_test.astype(np.int32), depth=num_classes)"
      ],
      "metadata": {
        "id": "CUT6VPOEsUIW"
      },
      "execution_count": 7,
      "outputs": []
    },
    {
      "cell_type": "markdown",
      "source": [
        "## Creating & Compiling the Sequential Model\n",
        "\n",
        "\n",
        "\n",
        "1.   MaxPooling in order to reduce the computation and increase training speed\n",
        "2.   Dropouts in order to prevent overfitting of training data\n",
        "\n"
      ],
      "metadata": {
        "id": "E3nCz3sTNNXZ"
      }
    },
    {
      "cell_type": "code",
      "source": [
        "batch_size = 64 \n",
        "epochs = 5\n",
        "input_shape = x_train.shape[1:] "
      ],
      "metadata": {
        "id": "XHi0R09NosPd"
      },
      "execution_count": 8,
      "outputs": []
    },
    {
      "cell_type": "code",
      "source": [
        "#Model creation\n",
        "model = tf.keras.models.Sequential([\n",
        "    tf.keras.layers.Conv2D(16, (5,5), padding='same', activation='relu', input_shape=input_shape),\n",
        "    tf.keras.layers.MaxPool2D(strides=(2,2)),\n",
        "    tf.keras.layers.Conv2D(32, (5,5), padding='same', activation='relu'),\n",
        "    tf.keras.layers.MaxPool2D(strides=(2,2)),\n",
        "    tf.keras.layers.Flatten(),\n",
        "    tf.keras.layers.Dense(128, activation='relu'),\n",
        "    tf.keras.layers.Dropout(0.25),\n",
        "    tf.keras.layers.Dense(num_classes, activation='softmax')\n",
        "])"
      ],
      "metadata": {
        "id": "L_iuAI0gpo25"
      },
      "execution_count": 9,
      "outputs": []
    },
    {
      "cell_type": "code",
      "source": [
        "model.summary()"
      ],
      "metadata": {
        "colab": {
          "base_uri": "https://localhost:8080/"
        },
        "id": "I3QM4CGx8KVY",
        "outputId": "f6a7630f-c8f6-439f-ef98-37213130ff36"
      },
      "execution_count": 10,
      "outputs": [
        {
          "output_type": "stream",
          "name": "stdout",
          "text": [
            "Model: \"sequential\"\n",
            "_________________________________________________________________\n",
            " Layer (type)                Output Shape              Param #   \n",
            "=================================================================\n",
            " conv2d (Conv2D)             (None, 28, 28, 16)        416       \n",
            "                                                                 \n",
            " max_pooling2d (MaxPooling2D  (None, 14, 14, 16)       0         \n",
            " )                                                               \n",
            "                                                                 \n",
            " conv2d_1 (Conv2D)           (None, 14, 14, 32)        12832     \n",
            "                                                                 \n",
            " max_pooling2d_1 (MaxPooling  (None, 7, 7, 32)         0         \n",
            " 2D)                                                             \n",
            "                                                                 \n",
            " flatten (Flatten)           (None, 1568)              0         \n",
            "                                                                 \n",
            " dense (Dense)               (None, 128)               200832    \n",
            "                                                                 \n",
            " dropout (Dropout)           (None, 128)               0         \n",
            "                                                                 \n",
            " dense_1 (Dense)             (None, 10)                1290      \n",
            "                                                                 \n",
            "=================================================================\n",
            "Total params: 215,370\n",
            "Trainable params: 215,370\n",
            "Non-trainable params: 0\n",
            "_________________________________________________________________\n"
          ]
        }
      ]
    },
    {
      "cell_type": "code",
      "source": [
        "#Compiling model\n",
        "model.compile(optimizer=tf.keras.optimizers.Adam(learning_rate=5e-4), loss='categorical_crossentropy', metrics=['acc'])"
      ],
      "metadata": {
        "id": "lsUZ1ROz8Pio"
      },
      "execution_count": 11,
      "outputs": []
    },
    {
      "cell_type": "markdown",
      "source": [
        "## Training & Evaluating the model using confusion matrix"
      ],
      "metadata": {
        "id": "yUNVH2mmNz7a"
      }
    },
    {
      "cell_type": "code",
      "source": [
        "callback = tf.keras.callbacks.EarlyStopping(monitor='loss', patience=3)\n",
        "history = model.fit(x_train, y_train,\n",
        "                    batch_size=batch_size,\n",
        "                    epochs=epochs,\n",
        "                    validation_split=0.2,\n",
        "                    callbacks=[callback])"
      ],
      "metadata": {
        "colab": {
          "base_uri": "https://localhost:8080/"
        },
        "id": "_1e6hYjmA4sp",
        "outputId": "e52aaf7e-4c1d-41bd-e04f-925e44a7104b"
      },
      "execution_count": 12,
      "outputs": [
        {
          "output_type": "stream",
          "name": "stdout",
          "text": [
            "Epoch 1/5\n",
            "750/750 [==============================] - 71s 93ms/step - loss: 0.2856 - acc: 0.9159 - val_loss: 0.0762 - val_acc: 0.9762\n",
            "Epoch 2/5\n",
            "750/750 [==============================] - 58s 78ms/step - loss: 0.0809 - acc: 0.9754 - val_loss: 0.0535 - val_acc: 0.9838\n",
            "Epoch 3/5\n",
            "750/750 [==============================] - 59s 78ms/step - loss: 0.0589 - acc: 0.9821 - val_loss: 0.0502 - val_acc: 0.9836\n",
            "Epoch 4/5\n",
            "750/750 [==============================] - 58s 77ms/step - loss: 0.0459 - acc: 0.9853 - val_loss: 0.0401 - val_acc: 0.9871\n",
            "Epoch 5/5\n",
            "750/750 [==============================] - 58s 77ms/step - loss: 0.0370 - acc: 0.9887 - val_loss: 0.0370 - val_acc: 0.9889\n"
          ]
        }
      ]
    },
    {
      "cell_type": "code",
      "source": [
        "fig, ax = plt.subplots(2,1)\n",
        "ax[0].plot(history.history['loss'], color='b', label=\"Training Loss\")\n",
        "ax[0].plot(history.history['val_loss'], color='r', label=\"Validation Loss\",axes =ax[0])\n",
        "legend = ax[0].legend(loc='best', shadow=True)\n",
        "\n",
        "ax[1].plot(history.history['acc'], color='b', label=\"Training Accuracy\")\n",
        "ax[1].plot(history.history['val_acc'], color='r',label=\"Validation Accuracy\")\n",
        "legend = ax[1].legend(loc='best', shadow=True)"
      ],
      "metadata": {
        "colab": {
          "base_uri": "https://localhost:8080/",
          "height": 265
        },
        "id": "CjbUTPfMCXll",
        "outputId": "1b246711-3471-41a6-a242-3a64073d61f0"
      },
      "execution_count": 13,
      "outputs": [
        {
          "output_type": "display_data",
          "data": {
            "text/plain": [
              "<Figure size 432x288 with 2 Axes>"
            ],
            "image/png": "[encoded data removed]"
          },
          "metadata": {
            "needs_background": "light"
          }
        }
      ]
    },
    {
      "cell_type": "code",
      "source": [
        "model.evaluate(x_test, y_test)"
      ],
      "metadata": {
        "colab": {
          "base_uri": "https://localhost:8080/"
        },
        "id": "KcYeZnYqCx0z",
        "outputId": "6c9f5799-a38c-4a35-b4eb-8c158575601d"
      },
      "execution_count": 14,
      "outputs": [
        {
          "output_type": "stream",
          "name": "stdout",
          "text": [
            "313/313 [==============================] - 4s 12ms/step - loss: 0.0298 - acc: 0.9894\n"
          ]
        },
        {
          "output_type": "execute_result",
          "data": {
            "text/plain": [
              "[0.029779337346553802, 0.9894000291824341]"
            ]
          },
          "metadata": {},
          "execution_count": 14
        }
      ]
    },
    {
      "cell_type": "code",
      "source": [
        "# Confusion Matrix\n",
        "predictions = model.predict(x_test)\n",
        "prediction_classes = np.argmax(predictions,axis = 1) \n",
        "true_classes = np.argmax(y_test,axis = 1)"
      ],
      "metadata": {
        "colab": {
          "base_uri": "https://localhost:8080/"
        },
        "id": "FG2n5_XBFjuJ",
        "outputId": "8eb60829-9080-4820-c576-e8aa6c3b8068"
      },
      "execution_count": 15,
      "outputs": [
        {
          "output_type": "stream",
          "name": "stdout",
          "text": [
            "313/313 [==============================] - 4s 12ms/step\n"
          ]
        }
      ]
    },
    {
      "cell_type": "code",
      "source": [
        "# plot confusion_matrix\n",
        "cm = confusion_matrix(true_classes, prediction_classes, normalize='true')\n",
        "disp = ConfusionMatrixDisplay(cm, display_labels= list(set(true_classes)))\n",
        "disp.plot()\n",
        "fig = disp.ax_.get_figure()\n",
        "fig.set_figwidth(7)\n",
        "fig.set_figheight(7) \n",
        "plt.show()"
      ],
      "metadata": {
        "colab": {
          "base_uri": "https://localhost:8080/",
          "height": 417
        },
        "id": "nkDicUsWGD4g",
        "outputId": "596def9c-f832-4675-d627-66e385b5158a"
      },
      "execution_count": 16,
      "outputs": [
        {
          "output_type": "display_data",
          "data": {
            "text/plain": [
              "<Figure size 504x504 with 2 Axes>"
            ],
            "image/png": "[encoded data removed]"
          },
          "metadata": {
            "needs_background": "light"
          }
        }
      ]
    }
  ]
}